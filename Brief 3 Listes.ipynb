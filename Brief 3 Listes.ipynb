{
 "cells": [
  {
   "cell_type": "code",
   "execution_count": 6,
   "id": "fee199d1",
   "metadata": {
    "scrolled": true
   },
   "outputs": [
    {
     "name": "stdout",
     "output_type": "stream",
     "text": [
      "[147606, 483899, 449479, 348156, 629045, 466114, 645383, 543744, 577463, 455443, 268732, 334629, 495916, 270849, 184869, 594570, 128137, 377965, 276095, 347896, 184560, 386355, 430504, 315565, 637381, 161206, 678226, 454701, 484535, 413273, 549244, 246886, 396513, 319257, 288536, 355856, 351509, 537609, 690504, 365445, 663764, 553084, 239585, 428746, 591510, 664763, 128821, 176343, 330717, 647297, 664748, 440790, 664431, 263591, 162487, 439828, 190709, 504678]\n"
     ]
    }
   ],
   "source": [
    "# importing random module\n",
    "import random\n",
    "\n",
    "# générer des chiffres aléatoires, compris dans notre limite, à répéter 58 fois\n",
    "prix_de_58_maisons = [random.randint(125000, 700000) for i in range(58)]\n",
    "print(prix_de_58_maisons)"
   ]
  },
  {
   "cell_type": "code",
   "execution_count": 7,
   "id": "25b140f7",
   "metadata": {},
   "outputs": [
    {
     "data": {
      "text/plain": [
       "42"
      ]
     },
     "execution_count": 7,
     "metadata": {},
     "output_type": "execute_result"
    }
   ],
   "source": [
    "# générer i, le nbre de fois où un prix_de_58_maisons correspond à la condition de notre boucle if\n",
    "len([i for i in prix_de_58_maisons if i>=300000])"
   ]
  },
  {
   "cell_type": "code",
   "execution_count": 8,
   "id": "b452b00e",
   "metadata": {},
   "outputs": [
    {
     "data": {
      "text/plain": [
       "17"
      ]
     },
     "execution_count": 8,
     "metadata": {},
     "output_type": "execute_result"
    }
   ],
   "source": [
    "len([i for i in prix_de_58_maisons if i>250000 and i<400000 ])"
   ]
  },
  {
   "cell_type": "code",
   "execution_count": 9,
   "id": "0f381a74",
   "metadata": {},
   "outputs": [
    {
     "data": {
      "text/plain": [
       "48"
      ]
     },
     "execution_count": 9,
     "metadata": {},
     "output_type": "execute_result"
    }
   ],
   "source": [
    "len([i for i in prix_de_58_maisons if i<600000])"
   ]
  },
  {
   "cell_type": "code",
   "execution_count": 10,
   "id": "45b2121e",
   "metadata": {},
   "outputs": [
    {
     "data": {
      "text/plain": [
       "9"
      ]
     },
     "execution_count": 10,
     "metadata": {},
     "output_type": "execute_result"
    }
   ],
   "source": [
    "len([i for i in prix_de_58_maisons if i<150000 or i>650000])"
   ]
  }
 ],
 "metadata": {
  "kernelspec": {
   "display_name": "Python 3 (ipykernel)",
   "language": "python",
   "name": "python3"
  },
  "language_info": {
   "codemirror_mode": {
    "name": "ipython",
    "version": 3
   },
   "file_extension": ".py",
   "mimetype": "text/x-python",
   "name": "python",
   "nbconvert_exporter": "python",
   "pygments_lexer": "ipython3",
   "version": "3.9.12"
  }
 },
 "nbformat": 4,
 "nbformat_minor": 5
}
