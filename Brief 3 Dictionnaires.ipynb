{
 "cells": [
  {
   "cell_type": "code",
   "execution_count": 1,
   "id": "a39c7efd",
   "metadata": {},
   "outputs": [],
   "source": [
    "# entrer les valeurs, et clés de notre dictionnaire\n",
    "ventes_commerciaux = {\n",
    "    \"Marie\":15, \n",
    "    \"Samuel\":17,\n",
    "    \"Gaston\":12,\n",
    "    \"Fred\":10,\n",
    "    \"Mae\":5,\n",
    "    \"Julie\":15,\n",
    "    \"Zoe\":7,\n",
    "    \"Claire\":20,\n",
    "    \"Chloe\":8,\n",
    "    \"Julien\":14,\n",
    "    \"Gael\":9,\n",
    "    \"Samia\":15,\n",
    "    \"Omar\":11,\n",
    "    \"Gabriel\":16,\n",
    "    \"Manon\":2,\n",
    "}"
   ]
  },
  {
   "cell_type": "code",
   "execution_count": 2,
   "id": "82787fd1",
   "metadata": {},
   "outputs": [
    {
     "data": {
      "text/plain": [
       "{'Marie': 15,\n",
       " 'Samuel': 17,\n",
       " 'Gaston': 12,\n",
       " 'Fred': 10,\n",
       " 'Mae': 5,\n",
       " 'Julie': 15,\n",
       " 'Zoe': 7,\n",
       " 'Claire': 20,\n",
       " 'Chloe': 8,\n",
       " 'Julien': 14,\n",
       " 'Gael': 9,\n",
       " 'Samia': 15,\n",
       " 'Omar': 11,\n",
       " 'Gabriel': 16,\n",
       " 'Manon': 2}"
      ]
     },
     "execution_count": 2,
     "metadata": {},
     "output_type": "execute_result"
    }
   ],
   "source": [
    "# afficher le contenu du dictionnaire\n",
    "ventes_commerciaux"
   ]
  },
  {
   "cell_type": "code",
   "execution_count": 9,
   "id": "31419e95",
   "metadata": {},
   "outputs": [
    {
     "name": "stdout",
     "output_type": "stream",
     "text": [
      "la moyenne est:  11.733333333333333\n"
     ]
    }
   ],
   "source": [
    "# pour chaque chaque clé dans le dictionnaire, ajouter +1 à count, et additionner les clés avec sum\n",
    "count = 0\n",
    "_sum = 0\n",
    "for key in ventes_commerciaux:\n",
    "    count += 1\n",
    "    _sum += ventes_commerciaux[key]\n",
    "\n",
    "# définir une moyenne, qui divisera le total de notre somme au nbre total de count\n",
    "moy = _sum/count\n",
    "    \n",
    "print('la moyenne est: ', moy)"
   ]
  },
  {
   "cell_type": "code",
   "execution_count": 4,
   "id": "84b654b1",
   "metadata": {},
   "outputs": [
    {
     "name": "stdout",
     "output_type": "stream",
     "text": [
      "15\n"
     ]
    }
   ],
   "source": [
    "# utiliser la commande len pour connaitre le nbre de clé dans le dictionnaire\n",
    "print(len(ventes_commerciaux.keys()))"
   ]
  },
  {
   "cell_type": "code",
   "execution_count": 5,
   "id": "efe37915",
   "metadata": {},
   "outputs": [
    {
     "data": {
      "text/plain": [
       "dict_items([('Marie', 15), ('Samuel', 17), ('Gaston', 12), ('Fred', 10), ('Mae', 5), ('Julie', 15), ('Zoe', 7), ('Claire', 20), ('Chloe', 8), ('Julien', 14), ('Gael', 9), ('Samia', 15), ('Omar', 11), ('Gabriel', 16), ('Manon', 2)])"
      ]
     },
     "execution_count": 5,
     "metadata": {},
     "output_type": "execute_result"
    }
   ],
   "source": [
    "# définir items pour avoir la clé et sa valeur associée\n",
    "ventes_commerciaux.items()"
   ]
  },
  {
   "cell_type": "code",
   "execution_count": 6,
   "id": "3d982f71",
   "metadata": {},
   "outputs": [
    {
     "name": "stdout",
     "output_type": "stream",
     "text": [
      "Marie 15\n",
      "Samuel 17\n",
      "Gaston 12\n",
      "Fred 10\n",
      "Mae 5\n",
      "Julie 15\n",
      "Zoe 7\n",
      "Claire 20\n",
      "Chloe 8\n",
      "Julien 14\n",
      "Gael 9\n",
      "Samia 15\n",
      "Omar 11\n",
      "Gabriel 16\n",
      "Manon 2\n"
     ]
    }
   ],
   "source": [
    "for cle,valeur in ventes_commerciaux.items():\n",
    "    print(cle, valeur)"
   ]
  },
  {
   "cell_type": "code",
   "execution_count": 10,
   "id": "ed4dd737",
   "metadata": {},
   "outputs": [
    {
     "name": "stdout",
     "output_type": "stream",
     "text": [
      "Le nombre de commercial ayant fait des ventes supérieurs à la moyenne est 8\n"
     ]
    }
   ],
   "source": [
    "# pour chaque clé et valeur de notre dictionnaire, si la valeur est supérieur à la moyenne définie plus tôt, on rajoute +1 à count\n",
    "count2 = 0\n",
    "for cle,valeur in ventes_commerciaux.items():\n",
    "    if valeur > moy:\n",
    "        count2 += 1\n",
    "print('Le nombre de commercial ayant fait des ventes supérieurs à la moyenne est', count2)"
   ]
  },
  {
   "cell_type": "code",
   "execution_count": 25,
   "id": "eb2270ec",
   "metadata": {},
   "outputs": [
    {
     "name": "stdout",
     "output_type": "stream",
     "text": [
      "Le meilleur vendeur est Claire\n"
     ]
    }
   ],
   "source": [
    "meilleurValeur = 0\n",
    "meilleurCle = 'toto'\n",
    "for cle,valeur in ventes_commerciaux.items():\n",
    "    if valeur > meilleurValeur:\n",
    "        meilleurValeur = valeur\n",
    "        meilleurCle = cle\n",
    "print('Le meilleur vendeur est', meilleurCle)\n",
    "        "
   ]
  },
  {
   "cell_type": "code",
   "execution_count": 26,
   "id": "e4a0f59c",
   "metadata": {},
   "outputs": [
    {
     "name": "stdout",
     "output_type": "stream",
     "text": [
      "Le nombre de vendeur ayant un nom avec moins de 4 lettres est 2\n"
     ]
    }
   ],
   "source": [
    "# si la longueur de la clé est strictement inférieur à 4, on ajoute une personne à nbVendeur\n",
    "nbVendeur = 0\n",
    "for cle in ventes_commerciaux.keys():\n",
    "    if len(cle) < 4:\n",
    "        nbVendeur += 1\n",
    "print('Le nombre de vendeur ayant un nom avec moins de 4 lettres est', nbVendeur)"
   ]
  },
  {
   "cell_type": "code",
   "execution_count": 30,
   "id": "7b095e40",
   "metadata": {},
   "outputs": [
    {
     "name": "stdout",
     "output_type": "stream",
     "text": [
      "Gaston\n",
      "Fred\n",
      "Claire\n",
      "Chloe\n",
      "Julien\n",
      "Gabriel\n",
      "Manon\n"
     ]
    }
   ],
   "source": [
    "# pour chaque clé et valeur, si la valeur est divisible par 2 alors on affiche sa clé associée\n",
    "for cle,valeur in ventes_commerciaux.items():\n",
    "    if (valeur % 2) == 0:\n",
    "        print(cle)"
   ]
  },
  {
   "cell_type": "code",
   "execution_count": null,
   "id": "9b93606c",
   "metadata": {},
   "outputs": [],
   "source": []
  }
 ],
 "metadata": {
  "kernelspec": {
   "display_name": "Python 3 (ipykernel)",
   "language": "python",
   "name": "python3"
  },
  "language_info": {
   "codemirror_mode": {
    "name": "ipython",
    "version": 3
   },
   "file_extension": ".py",
   "mimetype": "text/x-python",
   "name": "python",
   "nbconvert_exporter": "python",
   "pygments_lexer": "ipython3",
   "version": "3.9.12"
  }
 },
 "nbformat": 4,
 "nbformat_minor": 5
}
