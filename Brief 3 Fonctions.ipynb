{
 "cells": [
  {
   "cell_type": "code",
   "execution_count": 1,
   "id": "e97a3b69",
   "metadata": {},
   "outputs": [
    {
     "name": "stdout",
     "output_type": "stream",
     "text": [
      "4.714285714285714\n"
     ]
    }
   ],
   "source": [
    "liste1 = [1, 2, 3, 4, 6, 8, 9]\n",
    "\n",
    "#calcul de la somme des nbres de la liste diviser par le nbres de valeurs dans la liste\n",
    "m=sum(liste1)/len(liste1)\n",
    "print(m)"
   ]
  },
  {
   "cell_type": "code",
   "execution_count": 17,
   "id": "bfb3382e",
   "metadata": {},
   "outputs": [
    {
     "name": "stdout",
     "output_type": "stream",
     "text": [
      "4\n"
     ]
    }
   ],
   "source": [
    "liste1 = [1, 2, 3, 4, 6, 8, 9]\n",
    "\n",
    "#être sûr d'avoir une liste rangée\n",
    "liste1.sort()\n",
    "\n",
    "#créer une boucle pour calculer la médiance en fonction du nbre de valeurs (pair ou impair)\n",
    "if len(liste1)%2==0:\n",
    "    m=((liste1[(len(liste1)-1)//2]+liste1[len(liste1)//2])/2)\n",
    "else :\n",
    "    m=liste1[len(liste1)//2]\n",
    "print(m)"
   ]
  },
  {
   "cell_type": "code",
   "execution_count": 13,
   "id": "541a02d1",
   "metadata": {},
   "outputs": [
    {
     "name": "stdout",
     "output_type": "stream",
     "text": [
      "7.918367346938775\n"
     ]
    }
   ],
   "source": [
    "liste1 = [1, 2, 3, 4, 6, 8, 9]\n",
    "\n",
    "#calculer la moyenne de notre liste\n",
    "m = sum(liste1) / len(liste1)\n",
    "\n",
    "#calculer l'écart élevé au carré entre chaque valeur et la moyenne\n",
    "#les écarts sont additionnés, puis on divise la somme par le nbre de valeurs\n",
    "var_res = sum((xi - m) ** 2 for xi in liste1) / len(liste1)\n",
    "print(var_res)"
   ]
  },
  {
   "cell_type": "code",
   "execution_count": 15,
   "id": "8cf61425",
   "metadata": {},
   "outputs": [
    {
     "data": {
      "text/plain": [
       "2.813959371941744"
      ]
     },
     "execution_count": 15,
     "metadata": {},
     "output_type": "execute_result"
    }
   ],
   "source": [
    "var_res = 7.918367346938775\n",
    "\n",
    "#à partir de notre variance, trouver la racine carré pour avoir l'écart type\n",
    "var_res **(0.5)"
   ]
  },
  {
   "cell_type": "code",
   "execution_count": null,
   "id": "8633aacb",
   "metadata": {},
   "outputs": [],
   "source": []
  }
 ],
 "metadata": {
  "kernelspec": {
   "display_name": "Python 3 (ipykernel)",
   "language": "python",
   "name": "python3"
  },
  "language_info": {
   "codemirror_mode": {
    "name": "ipython",
    "version": 3
   },
   "file_extension": ".py",
   "mimetype": "text/x-python",
   "name": "python",
   "nbconvert_exporter": "python",
   "pygments_lexer": "ipython3",
   "version": "3.9.12"
  }
 },
 "nbformat": 4,
 "nbformat_minor": 5
}
